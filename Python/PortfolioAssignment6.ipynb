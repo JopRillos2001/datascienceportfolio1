{
 "cells": [
  {
   "cell_type": "code",
   "execution_count": 1,
   "metadata": {},
   "outputs": [],
   "source": [
    "import pandas as pd"
   ]
  },
  {
   "cell_type": "code",
   "execution_count": 2,
   "metadata": {},
   "outputs": [],
   "source": [
    "covidData = pd.read_csv(\"Datasets/covid.csv\")"
   ]
  },
  {
   "cell_type": "code",
   "execution_count": 3,
   "metadata": {},
   "outputs": [
    {
     "data": {
      "text/html": [
       "<div>\n",
       "<style scoped>\n",
       "    .dataframe tbody tr th:only-of-type {\n",
       "        vertical-align: middle;\n",
       "    }\n",
       "\n",
       "    .dataframe tbody tr th {\n",
       "        vertical-align: top;\n",
       "    }\n",
       "\n",
       "    .dataframe thead th {\n",
       "        text-align: right;\n",
       "    }\n",
       "</style>\n",
       "<table border=\"1\" class=\"dataframe\">\n",
       "  <thead>\n",
       "    <tr style=\"text-align: right;\">\n",
       "      <th></th>\n",
       "      <th>Country/Region</th>\n",
       "      <th>Continent</th>\n",
       "      <th>Population</th>\n",
       "      <th>TotalCases</th>\n",
       "      <th>NewCases</th>\n",
       "      <th>TotalDeaths</th>\n",
       "      <th>NewDeaths</th>\n",
       "      <th>TotalRecovered</th>\n",
       "      <th>NewRecovered</th>\n",
       "      <th>ActiveCases</th>\n",
       "      <th>Serious,Critical</th>\n",
       "      <th>Tot Cases/1M pop</th>\n",
       "      <th>Deaths/1M pop</th>\n",
       "      <th>TotalTests</th>\n",
       "      <th>Tests/1M pop</th>\n",
       "      <th>WHO Region</th>\n",
       "    </tr>\n",
       "  </thead>\n",
       "  <tbody>\n",
       "    <tr>\n",
       "      <th>0</th>\n",
       "      <td>USA</td>\n",
       "      <td>North America</td>\n",
       "      <td>3.311981e+08</td>\n",
       "      <td>5032179</td>\n",
       "      <td>NaN</td>\n",
       "      <td>162804.0</td>\n",
       "      <td>NaN</td>\n",
       "      <td>2576668.0</td>\n",
       "      <td>NaN</td>\n",
       "      <td>2292707.0</td>\n",
       "      <td>18296.0</td>\n",
       "      <td>15194.0</td>\n",
       "      <td>492.0</td>\n",
       "      <td>63139605.0</td>\n",
       "      <td>190640.0</td>\n",
       "      <td>Americas</td>\n",
       "    </tr>\n",
       "    <tr>\n",
       "      <th>1</th>\n",
       "      <td>Brazil</td>\n",
       "      <td>South America</td>\n",
       "      <td>2.127107e+08</td>\n",
       "      <td>2917562</td>\n",
       "      <td>NaN</td>\n",
       "      <td>98644.0</td>\n",
       "      <td>NaN</td>\n",
       "      <td>2047660.0</td>\n",
       "      <td>NaN</td>\n",
       "      <td>771258.0</td>\n",
       "      <td>8318.0</td>\n",
       "      <td>13716.0</td>\n",
       "      <td>464.0</td>\n",
       "      <td>13206188.0</td>\n",
       "      <td>62085.0</td>\n",
       "      <td>Americas</td>\n",
       "    </tr>\n",
       "    <tr>\n",
       "      <th>2</th>\n",
       "      <td>India</td>\n",
       "      <td>Asia</td>\n",
       "      <td>1.381345e+09</td>\n",
       "      <td>2025409</td>\n",
       "      <td>NaN</td>\n",
       "      <td>41638.0</td>\n",
       "      <td>NaN</td>\n",
       "      <td>1377384.0</td>\n",
       "      <td>NaN</td>\n",
       "      <td>606387.0</td>\n",
       "      <td>8944.0</td>\n",
       "      <td>1466.0</td>\n",
       "      <td>30.0</td>\n",
       "      <td>22149351.0</td>\n",
       "      <td>16035.0</td>\n",
       "      <td>South-EastAsia</td>\n",
       "    </tr>\n",
       "    <tr>\n",
       "      <th>3</th>\n",
       "      <td>Russia</td>\n",
       "      <td>Europe</td>\n",
       "      <td>1.459409e+08</td>\n",
       "      <td>871894</td>\n",
       "      <td>NaN</td>\n",
       "      <td>14606.0</td>\n",
       "      <td>NaN</td>\n",
       "      <td>676357.0</td>\n",
       "      <td>NaN</td>\n",
       "      <td>180931.0</td>\n",
       "      <td>2300.0</td>\n",
       "      <td>5974.0</td>\n",
       "      <td>100.0</td>\n",
       "      <td>29716907.0</td>\n",
       "      <td>203623.0</td>\n",
       "      <td>Europe</td>\n",
       "    </tr>\n",
       "    <tr>\n",
       "      <th>4</th>\n",
       "      <td>South Africa</td>\n",
       "      <td>Africa</td>\n",
       "      <td>5.938157e+07</td>\n",
       "      <td>538184</td>\n",
       "      <td>NaN</td>\n",
       "      <td>9604.0</td>\n",
       "      <td>NaN</td>\n",
       "      <td>387316.0</td>\n",
       "      <td>NaN</td>\n",
       "      <td>141264.0</td>\n",
       "      <td>539.0</td>\n",
       "      <td>9063.0</td>\n",
       "      <td>162.0</td>\n",
       "      <td>3149807.0</td>\n",
       "      <td>53044.0</td>\n",
       "      <td>Africa</td>\n",
       "    </tr>\n",
       "    <tr>\n",
       "      <th>...</th>\n",
       "      <td>...</td>\n",
       "      <td>...</td>\n",
       "      <td>...</td>\n",
       "      <td>...</td>\n",
       "      <td>...</td>\n",
       "      <td>...</td>\n",
       "      <td>...</td>\n",
       "      <td>...</td>\n",
       "      <td>...</td>\n",
       "      <td>...</td>\n",
       "      <td>...</td>\n",
       "      <td>...</td>\n",
       "      <td>...</td>\n",
       "      <td>...</td>\n",
       "      <td>...</td>\n",
       "      <td>...</td>\n",
       "    </tr>\n",
       "    <tr>\n",
       "      <th>204</th>\n",
       "      <td>Montserrat</td>\n",
       "      <td>North America</td>\n",
       "      <td>4.992000e+03</td>\n",
       "      <td>13</td>\n",
       "      <td>NaN</td>\n",
       "      <td>1.0</td>\n",
       "      <td>NaN</td>\n",
       "      <td>10.0</td>\n",
       "      <td>NaN</td>\n",
       "      <td>2.0</td>\n",
       "      <td>NaN</td>\n",
       "      <td>2604.0</td>\n",
       "      <td>200.0</td>\n",
       "      <td>61.0</td>\n",
       "      <td>12220.0</td>\n",
       "      <td>NaN</td>\n",
       "    </tr>\n",
       "    <tr>\n",
       "      <th>205</th>\n",
       "      <td>Caribbean Netherlands</td>\n",
       "      <td>North America</td>\n",
       "      <td>2.624700e+04</td>\n",
       "      <td>13</td>\n",
       "      <td>NaN</td>\n",
       "      <td>NaN</td>\n",
       "      <td>NaN</td>\n",
       "      <td>7.0</td>\n",
       "      <td>NaN</td>\n",
       "      <td>6.0</td>\n",
       "      <td>NaN</td>\n",
       "      <td>495.0</td>\n",
       "      <td>NaN</td>\n",
       "      <td>424.0</td>\n",
       "      <td>16154.0</td>\n",
       "      <td>NaN</td>\n",
       "    </tr>\n",
       "    <tr>\n",
       "      <th>206</th>\n",
       "      <td>Falkland Islands</td>\n",
       "      <td>South America</td>\n",
       "      <td>3.489000e+03</td>\n",
       "      <td>13</td>\n",
       "      <td>NaN</td>\n",
       "      <td>NaN</td>\n",
       "      <td>NaN</td>\n",
       "      <td>13.0</td>\n",
       "      <td>NaN</td>\n",
       "      <td>0.0</td>\n",
       "      <td>NaN</td>\n",
       "      <td>3726.0</td>\n",
       "      <td>NaN</td>\n",
       "      <td>1816.0</td>\n",
       "      <td>520493.0</td>\n",
       "      <td>NaN</td>\n",
       "    </tr>\n",
       "    <tr>\n",
       "      <th>207</th>\n",
       "      <td>Vatican City</td>\n",
       "      <td>Europe</td>\n",
       "      <td>8.010000e+02</td>\n",
       "      <td>12</td>\n",
       "      <td>NaN</td>\n",
       "      <td>NaN</td>\n",
       "      <td>NaN</td>\n",
       "      <td>12.0</td>\n",
       "      <td>NaN</td>\n",
       "      <td>0.0</td>\n",
       "      <td>NaN</td>\n",
       "      <td>14981.0</td>\n",
       "      <td>NaN</td>\n",
       "      <td>NaN</td>\n",
       "      <td>NaN</td>\n",
       "      <td>Europe</td>\n",
       "    </tr>\n",
       "    <tr>\n",
       "      <th>208</th>\n",
       "      <td>Western Sahara</td>\n",
       "      <td>Africa</td>\n",
       "      <td>5.986820e+05</td>\n",
       "      <td>10</td>\n",
       "      <td>NaN</td>\n",
       "      <td>1.0</td>\n",
       "      <td>NaN</td>\n",
       "      <td>8.0</td>\n",
       "      <td>NaN</td>\n",
       "      <td>1.0</td>\n",
       "      <td>NaN</td>\n",
       "      <td>17.0</td>\n",
       "      <td>2.0</td>\n",
       "      <td>NaN</td>\n",
       "      <td>NaN</td>\n",
       "      <td>Africa</td>\n",
       "    </tr>\n",
       "  </tbody>\n",
       "</table>\n",
       "<p>209 rows × 16 columns</p>\n",
       "</div>"
      ],
      "text/plain": [
       "            Country/Region      Continent    Population  TotalCases  NewCases  \\\n",
       "0                      USA  North America  3.311981e+08     5032179       NaN   \n",
       "1                   Brazil  South America  2.127107e+08     2917562       NaN   \n",
       "2                    India           Asia  1.381345e+09     2025409       NaN   \n",
       "3                   Russia         Europe  1.459409e+08      871894       NaN   \n",
       "4             South Africa         Africa  5.938157e+07      538184       NaN   \n",
       "..                     ...            ...           ...         ...       ...   \n",
       "204             Montserrat  North America  4.992000e+03          13       NaN   \n",
       "205  Caribbean Netherlands  North America  2.624700e+04          13       NaN   \n",
       "206       Falkland Islands  South America  3.489000e+03          13       NaN   \n",
       "207           Vatican City         Europe  8.010000e+02          12       NaN   \n",
       "208         Western Sahara         Africa  5.986820e+05          10       NaN   \n",
       "\n",
       "     TotalDeaths  NewDeaths  TotalRecovered  NewRecovered  ActiveCases  \\\n",
       "0       162804.0        NaN       2576668.0           NaN    2292707.0   \n",
       "1        98644.0        NaN       2047660.0           NaN     771258.0   \n",
       "2        41638.0        NaN       1377384.0           NaN     606387.0   \n",
       "3        14606.0        NaN        676357.0           NaN     180931.0   \n",
       "4         9604.0        NaN        387316.0           NaN     141264.0   \n",
       "..           ...        ...             ...           ...          ...   \n",
       "204          1.0        NaN            10.0           NaN          2.0   \n",
       "205          NaN        NaN             7.0           NaN          6.0   \n",
       "206          NaN        NaN            13.0           NaN          0.0   \n",
       "207          NaN        NaN            12.0           NaN          0.0   \n",
       "208          1.0        NaN             8.0           NaN          1.0   \n",
       "\n",
       "     Serious,Critical  Tot Cases/1M pop  Deaths/1M pop  TotalTests  \\\n",
       "0             18296.0           15194.0          492.0  63139605.0   \n",
       "1              8318.0           13716.0          464.0  13206188.0   \n",
       "2              8944.0            1466.0           30.0  22149351.0   \n",
       "3              2300.0            5974.0          100.0  29716907.0   \n",
       "4               539.0            9063.0          162.0   3149807.0   \n",
       "..                ...               ...            ...         ...   \n",
       "204               NaN            2604.0          200.0        61.0   \n",
       "205               NaN             495.0            NaN       424.0   \n",
       "206               NaN            3726.0            NaN      1816.0   \n",
       "207               NaN           14981.0            NaN         NaN   \n",
       "208               NaN              17.0            2.0         NaN   \n",
       "\n",
       "     Tests/1M pop      WHO Region  \n",
       "0        190640.0        Americas  \n",
       "1         62085.0        Americas  \n",
       "2         16035.0  South-EastAsia  \n",
       "3        203623.0          Europe  \n",
       "4         53044.0          Africa  \n",
       "..            ...             ...  \n",
       "204       12220.0             NaN  \n",
       "205       16154.0             NaN  \n",
       "206      520493.0             NaN  \n",
       "207           NaN          Europe  \n",
       "208           NaN          Africa  \n",
       "\n",
       "[209 rows x 16 columns]"
      ]
     },
     "execution_count": 3,
     "metadata": {},
     "output_type": "execute_result"
    }
   ],
   "source": [
    "covidData"
   ]
  },
  {
   "cell_type": "code",
   "execution_count": 5,
   "metadata": {},
   "outputs": [
    {
     "data": {
      "text/plain": [
       "0      North America\n",
       "1      South America\n",
       "2               Asia\n",
       "3             Europe\n",
       "4             Africa\n",
       "           ...      \n",
       "204    North America\n",
       "205    North America\n",
       "206    South America\n",
       "207           Europe\n",
       "208           Africa\n",
       "Name: Continent, Length: 209, dtype: object"
      ]
     },
     "execution_count": 5,
     "metadata": {},
     "output_type": "execute_result"
    }
   ],
   "source": [
    "covidData['Continent']"
   ]
  },
  {
   "cell_type": "code",
   "execution_count": 6,
   "metadata": {},
   "outputs": [
    {
     "data": {
      "text/plain": [
       "array(['North America', 'South America', 'Asia', 'Europe', 'Africa',\n",
       "       'Australia/Oceania', nan], dtype=object)"
      ]
     },
     "execution_count": 6,
     "metadata": {},
     "output_type": "execute_result"
    }
   ],
   "source": [
    "covidData['Continent'].unique()"
   ]
  },
  {
   "cell_type": "code",
   "execution_count": 7,
   "metadata": {},
   "outputs": [
    {
     "data": {
      "text/plain": [
       "Africa               57\n",
       "Asia                 48\n",
       "Europe               48\n",
       "North America        35\n",
       "South America        14\n",
       "Australia/Oceania     6\n",
       "Name: Continent, dtype: int64"
      ]
     },
     "execution_count": 7,
     "metadata": {},
     "output_type": "execute_result"
    }
   ],
   "source": [
    "covidData['Continent'].value_counts()"
   ]
  },
  {
   "cell_type": "code",
   "execution_count": 8,
   "metadata": {},
   "outputs": [
    {
     "data": {
      "text/plain": [
       "<AxesSubplot:>"
      ]
     },
     "execution_count": 8,
     "metadata": {},
     "output_type": "execute_result"
    },
    {
     "data": {
      "image/png": "[encoded data removed]",
      "text/plain": [
       "<Figure size 432x288 with 1 Axes>"
      ]
     },
     "metadata": {
      "needs_background": "light"
     },
     "output_type": "display_data"
    }
   ],
   "source": [
    "covidData['Continent'].value_counts(dropna=False).plot(kind='bar')"
   ]
  },
  {
   "cell_type": "code",
   "execution_count": 9,
   "metadata": {},
   "outputs": [
    {
     "data": {
      "text/plain": [
       "0            Americas\n",
       "1            Americas\n",
       "2      South-EastAsia\n",
       "3              Europe\n",
       "4              Africa\n",
       "            ...      \n",
       "204               NaN\n",
       "205               NaN\n",
       "206               NaN\n",
       "207            Europe\n",
       "208            Africa\n",
       "Name: WHO Region, Length: 209, dtype: object"
      ]
     },
     "execution_count": 9,
     "metadata": {},
     "output_type": "execute_result"
    }
   ],
   "source": [
    "covidData['WHO Region']"
   ]
  },
  {
   "cell_type": "code",
   "execution_count": 10,
   "metadata": {},
   "outputs": [
    {
     "data": {
      "text/plain": [
       "array(['Americas', 'South-EastAsia', 'Europe', 'Africa',\n",
       "       'EasternMediterranean', 'WesternPacific', nan], dtype=object)"
      ]
     },
     "execution_count": 10,
     "metadata": {},
     "output_type": "execute_result"
    }
   ],
   "source": [
    "covidData['WHO Region'].unique()"
   ]
  },
  {
   "cell_type": "code",
   "execution_count": 11,
   "metadata": {},
   "outputs": [
    {
     "data": {
      "text/plain": [
       "Europe                  55\n",
       "Africa                  47\n",
       "Americas                35\n",
       "EasternMediterranean    22\n",
       "WesternPacific          15\n",
       "South-EastAsia          10\n",
       "Name: WHO Region, dtype: int64"
      ]
     },
     "execution_count": 11,
     "metadata": {},
     "output_type": "execute_result"
    }
   ],
   "source": [
    "covidData['WHO Region'].value_counts()"
   ]
  },
  {
   "cell_type": "code",
   "execution_count": 12,
   "metadata": {},
   "outputs": [
    {
     "data": {
      "text/plain": [
       "<AxesSubplot:>"
      ]
     },
     "execution_count": 12,
     "metadata": {},
     "output_type": "execute_result"
    },
    {
     "data": {
      "image/png": "[encoded data removed]",
      "text/plain": [
       "<Figure size 432x288 with 1 Axes>"
      ]
     },
     "metadata": {
      "needs_background": "light"
     },
     "output_type": "display_data"
    }
   ],
   "source": [
    "covidData['WHO Region'].value_counts(dropna=False).plot(kind='bar')"
   ]
  },
  {
   "cell_type": "code",
   "execution_count": 13,
   "metadata": {},
   "outputs": [
    {
     "data": {
      "text/html": [
       "<div>\n",
       "<style scoped>\n",
       "    .dataframe tbody tr th:only-of-type {\n",
       "        vertical-align: middle;\n",
       "    }\n",
       "\n",
       "    .dataframe tbody tr th {\n",
       "        vertical-align: top;\n",
       "    }\n",
       "\n",
       "    .dataframe thead th {\n",
       "        text-align: right;\n",
       "    }\n",
       "</style>\n",
       "<table border=\"1\" class=\"dataframe\">\n",
       "  <thead>\n",
       "    <tr style=\"text-align: right;\">\n",
       "      <th></th>\n",
       "      <th>Population</th>\n",
       "      <th>TotalCases</th>\n",
       "      <th>NewCases</th>\n",
       "      <th>TotalDeaths</th>\n",
       "      <th>NewDeaths</th>\n",
       "      <th>TotalRecovered</th>\n",
       "      <th>NewRecovered</th>\n",
       "      <th>ActiveCases</th>\n",
       "      <th>Serious,Critical</th>\n",
       "      <th>Tot Cases/1M pop</th>\n",
       "      <th>Deaths/1M pop</th>\n",
       "      <th>TotalTests</th>\n",
       "      <th>Tests/1M pop</th>\n",
       "    </tr>\n",
       "  </thead>\n",
       "  <tbody>\n",
       "    <tr>\n",
       "      <th>count</th>\n",
       "      <td>2.080000e+02</td>\n",
       "      <td>2.090000e+02</td>\n",
       "      <td>4.000000</td>\n",
       "      <td>188.000000</td>\n",
       "      <td>3.000000</td>\n",
       "      <td>2.050000e+02</td>\n",
       "      <td>3.000000</td>\n",
       "      <td>2.050000e+02</td>\n",
       "      <td>122.000000</td>\n",
       "      <td>208.000000</td>\n",
       "      <td>187.000000</td>\n",
       "      <td>1.910000e+02</td>\n",
       "      <td>191.000000</td>\n",
       "    </tr>\n",
       "    <tr>\n",
       "      <th>mean</th>\n",
       "      <td>3.041549e+07</td>\n",
       "      <td>9.171850e+04</td>\n",
       "      <td>1980.500000</td>\n",
       "      <td>3792.590426</td>\n",
       "      <td>300.000000</td>\n",
       "      <td>5.887898e+04</td>\n",
       "      <td>1706.000000</td>\n",
       "      <td>2.766433e+04</td>\n",
       "      <td>534.393443</td>\n",
       "      <td>3196.024038</td>\n",
       "      <td>98.681176</td>\n",
       "      <td>1.402405e+06</td>\n",
       "      <td>83959.366492</td>\n",
       "    </tr>\n",
       "    <tr>\n",
       "      <th>std</th>\n",
       "      <td>1.047661e+08</td>\n",
       "      <td>4.325867e+05</td>\n",
       "      <td>3129.611424</td>\n",
       "      <td>15487.184877</td>\n",
       "      <td>451.199512</td>\n",
       "      <td>2.566984e+05</td>\n",
       "      <td>2154.779803</td>\n",
       "      <td>1.746327e+05</td>\n",
       "      <td>2047.518613</td>\n",
       "      <td>5191.986457</td>\n",
       "      <td>174.956862</td>\n",
       "      <td>5.553367e+06</td>\n",
       "      <td>152730.591240</td>\n",
       "    </tr>\n",
       "    <tr>\n",
       "      <th>min</th>\n",
       "      <td>8.010000e+02</td>\n",
       "      <td>1.000000e+01</td>\n",
       "      <td>20.000000</td>\n",
       "      <td>1.000000</td>\n",
       "      <td>1.000000</td>\n",
       "      <td>7.000000e+00</td>\n",
       "      <td>42.000000</td>\n",
       "      <td>0.000000e+00</td>\n",
       "      <td>1.000000</td>\n",
       "      <td>3.000000</td>\n",
       "      <td>0.080000</td>\n",
       "      <td>6.100000e+01</td>\n",
       "      <td>4.000000</td>\n",
       "    </tr>\n",
       "    <tr>\n",
       "      <th>25%</th>\n",
       "      <td>9.663140e+05</td>\n",
       "      <td>7.120000e+02</td>\n",
       "      <td>27.500000</td>\n",
       "      <td>22.000000</td>\n",
       "      <td>40.500000</td>\n",
       "      <td>3.340000e+02</td>\n",
       "      <td>489.000000</td>\n",
       "      <td>8.600000e+01</td>\n",
       "      <td>3.250000</td>\n",
       "      <td>282.000000</td>\n",
       "      <td>6.000000</td>\n",
       "      <td>2.575200e+04</td>\n",
       "      <td>8956.500000</td>\n",
       "    </tr>\n",
       "    <tr>\n",
       "      <th>50%</th>\n",
       "      <td>7.041972e+06</td>\n",
       "      <td>4.491000e+03</td>\n",
       "      <td>656.000000</td>\n",
       "      <td>113.000000</td>\n",
       "      <td>80.000000</td>\n",
       "      <td>2.178000e+03</td>\n",
       "      <td>936.000000</td>\n",
       "      <td>8.990000e+02</td>\n",
       "      <td>27.500000</td>\n",
       "      <td>1015.000000</td>\n",
       "      <td>29.000000</td>\n",
       "      <td>1.357020e+05</td>\n",
       "      <td>32585.000000</td>\n",
       "    </tr>\n",
       "    <tr>\n",
       "      <th>75%</th>\n",
       "      <td>2.575614e+07</td>\n",
       "      <td>3.689600e+04</td>\n",
       "      <td>2609.000000</td>\n",
       "      <td>786.000000</td>\n",
       "      <td>449.500000</td>\n",
       "      <td>2.055300e+04</td>\n",
       "      <td>2538.000000</td>\n",
       "      <td>7.124000e+03</td>\n",
       "      <td>160.250000</td>\n",
       "      <td>3841.750000</td>\n",
       "      <td>98.000000</td>\n",
       "      <td>7.576960e+05</td>\n",
       "      <td>92154.500000</td>\n",
       "    </tr>\n",
       "    <tr>\n",
       "      <th>max</th>\n",
       "      <td>1.381345e+09</td>\n",
       "      <td>5.032179e+06</td>\n",
       "      <td>6590.000000</td>\n",
       "      <td>162804.000000</td>\n",
       "      <td>819.000000</td>\n",
       "      <td>2.576668e+06</td>\n",
       "      <td>4140.000000</td>\n",
       "      <td>2.292707e+06</td>\n",
       "      <td>18296.000000</td>\n",
       "      <td>39922.000000</td>\n",
       "      <td>1238.000000</td>\n",
       "      <td>6.313960e+07</td>\n",
       "      <td>995282.000000</td>\n",
       "    </tr>\n",
       "  </tbody>\n",
       "</table>\n",
       "</div>"
      ],
      "text/plain": [
       "         Population    TotalCases     NewCases    TotalDeaths   NewDeaths  \\\n",
       "count  2.080000e+02  2.090000e+02     4.000000     188.000000    3.000000   \n",
       "mean   3.041549e+07  9.171850e+04  1980.500000    3792.590426  300.000000   \n",
       "std    1.047661e+08  4.325867e+05  3129.611424   15487.184877  451.199512   \n",
       "min    8.010000e+02  1.000000e+01    20.000000       1.000000    1.000000   \n",
       "25%    9.663140e+05  7.120000e+02    27.500000      22.000000   40.500000   \n",
       "50%    7.041972e+06  4.491000e+03   656.000000     113.000000   80.000000   \n",
       "75%    2.575614e+07  3.689600e+04  2609.000000     786.000000  449.500000   \n",
       "max    1.381345e+09  5.032179e+06  6590.000000  162804.000000  819.000000   \n",
       "\n",
       "       TotalRecovered  NewRecovered   ActiveCases  Serious,Critical  \\\n",
       "count    2.050000e+02      3.000000  2.050000e+02        122.000000   \n",
       "mean     5.887898e+04   1706.000000  2.766433e+04        534.393443   \n",
       "std      2.566984e+05   2154.779803  1.746327e+05       2047.518613   \n",
       "min      7.000000e+00     42.000000  0.000000e+00          1.000000   \n",
       "25%      3.340000e+02    489.000000  8.600000e+01          3.250000   \n",
       "50%      2.178000e+03    936.000000  8.990000e+02         27.500000   \n",
       "75%      2.055300e+04   2538.000000  7.124000e+03        160.250000   \n",
       "max      2.576668e+06   4140.000000  2.292707e+06      18296.000000   \n",
       "\n",
       "       Tot Cases/1M pop  Deaths/1M pop    TotalTests   Tests/1M pop  \n",
       "count        208.000000     187.000000  1.910000e+02     191.000000  \n",
       "mean        3196.024038      98.681176  1.402405e+06   83959.366492  \n",
       "std         5191.986457     174.956862  5.553367e+06  152730.591240  \n",
       "min            3.000000       0.080000  6.100000e+01       4.000000  \n",
       "25%          282.000000       6.000000  2.575200e+04    8956.500000  \n",
       "50%         1015.000000      29.000000  1.357020e+05   32585.000000  \n",
       "75%         3841.750000      98.000000  7.576960e+05   92154.500000  \n",
       "max        39922.000000    1238.000000  6.313960e+07  995282.000000  "
      ]
     },
     "execution_count": 13,
     "metadata": {},
     "output_type": "execute_result"
    }
   ],
   "source": [
    "covidData.describe()"
   ]
  },
  {
   "cell_type": "code",
   "execution_count": 14,
   "metadata": {},
   "outputs": [
    {
     "data": {
      "text/plain": [
       "Population          3.041549e+07\n",
       "TotalCases          9.171850e+04\n",
       "NewCases            1.980500e+03\n",
       "TotalDeaths         3.792590e+03\n",
       "NewDeaths           3.000000e+02\n",
       "TotalRecovered      5.887898e+04\n",
       "NewRecovered        1.706000e+03\n",
       "ActiveCases         2.766433e+04\n",
       "Serious,Critical    5.343934e+02\n",
       "Tot Cases/1M pop    3.196024e+03\n",
       "Deaths/1M pop       9.868118e+01\n",
       "TotalTests          1.402405e+06\n",
       "Tests/1M pop        8.395937e+04\n",
       "dtype: float64"
      ]
     },
     "execution_count": 14,
     "metadata": {},
     "output_type": "execute_result"
    }
   ],
   "source": [
    "covidData.mean()"
   ]
  },
  {
   "cell_type": "code",
   "execution_count": 15,
   "metadata": {},
   "outputs": [
    {
     "data": {
      "text/plain": [
       "Population          1.047661e+08\n",
       "TotalCases          4.325867e+05\n",
       "NewCases            3.129611e+03\n",
       "TotalDeaths         1.548718e+04\n",
       "NewDeaths           4.511995e+02\n",
       "TotalRecovered      2.566984e+05\n",
       "NewRecovered        2.154780e+03\n",
       "ActiveCases         1.746327e+05\n",
       "Serious,Critical    2.047519e+03\n",
       "Tot Cases/1M pop    5.191986e+03\n",
       "Deaths/1M pop       1.749569e+02\n",
       "TotalTests          5.553367e+06\n",
       "Tests/1M pop        1.527306e+05\n",
       "dtype: float64"
      ]
     },
     "execution_count": 15,
     "metadata": {},
     "output_type": "execute_result"
    }
   ],
   "source": [
    "covidData.std()"
   ]
  },
  {
   "cell_type": "code",
   "execution_count": 28,
   "metadata": {},
   "outputs": [
    {
     "data": {
      "text/plain": [
       "<AxesSubplot:ylabel='Frequency'>"
      ]
     },
     "execution_count": 28,
     "metadata": {},
     "output_type": "execute_result"
    },
    {
     "data": {
      "image/png": "[encoded data removed]",
      "text/plain": [
       "<Figure size 432x288 with 1 Axes>"
      ]
     },
     "metadata": {
      "needs_background": "light"
     },
     "output_type": "display_data"
    }
   ],
   "source": [
    "covidData['TotalCases'].plot(kind='hist')"
   ]
  },
  {
   "cell_type": "code",
   "execution_count": 29,
   "metadata": {},
   "outputs": [
    {
     "data": {
      "text/plain": [
       "<AxesSubplot:>"
      ]
     },
     "execution_count": 29,
     "metadata": {},
     "output_type": "execute_result"
    },
    {
     "data": {
      "image/png": "[encoded data removed]",
      "text/plain": [
       "<Figure size 432x288 with 1 Axes>"
      ]
     },
     "metadata": {
      "needs_background": "light"
     },
     "output_type": "display_data"
    }
   ],
   "source": [
    "covidData['TotalCases'].plot(kind='box')"
   ]
  },
  {
   "cell_type": "code",
   "execution_count": 30,
   "metadata": {},
   "outputs": [
    {
     "data": {
      "text/plain": [
       "<AxesSubplot:ylabel='Frequency'>"
      ]
     },
     "execution_count": 30,
     "metadata": {},
     "output_type": "execute_result"
    },
    {
     "data": {
      "image/png": "[encoded data removed]",
      "text/plain": [
       "<Figure size 432x288 with 1 Axes>"
      ]
     },
     "metadata": {
      "needs_background": "light"
     },
     "output_type": "display_data"
    }
   ],
   "source": [
    "covidData['Tot Cases/1M pop'].plot(kind='hist')"
   ]
  },
  {
   "cell_type": "code",
   "execution_count": 31,
   "metadata": {},
   "outputs": [
    {
     "data": {
      "text/plain": [
       "<AxesSubplot:>"
      ]
     },
     "execution_count": 31,
     "metadata": {},
     "output_type": "execute_result"
    },
    {
     "data": {
      "image/png": "[encoded data removed]",
      "text/plain": [
       "<Figure size 432x288 with 1 Axes>"
      ]
     },
     "metadata": {
      "needs_background": "light"
     },
     "output_type": "display_data"
    }
   ],
   "source": [
    "covidData['Tot Cases/1M pop'].plot(kind='box')"
   ]
  },
  {
   "cell_type": "code",
   "execution_count": null,
   "metadata": {},
   "outputs": [],
   "source": []
  }
 ],
 "metadata": {
  "kernelspec": {
   "display_name": "Python 3",
   "language": "python",
   "name": "python3"
  },
  "language_info": {
   "codemirror_mode": {
    "name": "ipython",
    "version": 3
   },
   "file_extension": ".py",
   "mimetype": "text/x-python",
   "name": "python",
   "nbconvert_exporter": "python",
   "pygments_lexer": "ipython3",
   "version": "3.8.5"
  }
 },
 "nbformat": 4,
 "nbformat_minor": 4
}
